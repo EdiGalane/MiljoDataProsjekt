{
 "cells": [
  {
   "cell_type": "markdown",
   "metadata": {},
   "source": [
    "# Prediktiv Analyse med lineær regresjon\n",
    "Følgende er en demosntrasjon av en fullstedig pipeline for en prediktiv analyse av Trondheim Forecast. Her tas lineær regresjon i bruk. \n",
    "\n",
    "##### Lineær regresjon:\n",
    "Lineær regresjon er et verktøy som forsøker å modellere sammenheng mellom en avhengig variabel som for eksempel temperatur og en uavhengig varaibel ved å tilpasse en rett linje.\n",
    "\n",
    "$$\n",
    "y = \\beta_0 + \\beta_1 x_1 + \\beta_2 x_2 + \\cdots + \\beta_n x_n + \\epsilon\n",
    "$$\n",
    "\n",
    "- y er for oss den avhengige variabelen Temperatur.\n",
    "- x er de uavhengige varaiblene som for eksempel Tid\n",
    "- beta_0 er konstantleddet\n",
    "- beta_n er regresjonskoeffisienter som minimerer forskjellen mellom predikerte verdier og de faktiske verdiene. "
   ]
  },
  {
   "cell_type": "markdown",
   "metadata": {},
   "source": [
    "#### Import av moduler og klasser:"
   ]
  },
  {
   "cell_type": "code",
   "execution_count": null,
   "metadata": {},
   "outputs": [],
   "source": [
    "import pandas as pd\n",
    "from src.data_reader import DataLeser\n",
    "from src.data_prediction import DataPrediksjon"
   ]
  },
  {
   "cell_type": "markdown",
   "metadata": {},
   "source": [
    "#### Last inn renset data"
   ]
  },
  {
   "cell_type": "code",
   "execution_count": null,
   "metadata": {},
   "outputs": [],
   "source": [
    "df = DataLeser().les_csv(\"data/renset_trondheim_forecast.csv\")"
   ]
  },
  {
   "cell_type": "markdown",
   "metadata": {},
   "source": [
    "#### Initialiser Prediksjonsklasse:"
   ]
  },
  {
   "cell_type": "code",
   "execution_count": 1,
   "metadata": {},
   "outputs": [
    {
     "ename": "NameError",
     "evalue": "name 'DataPrediksjon' is not defined",
     "output_type": "error",
     "traceback": [
      "\u001b[31m---------------------------------------------------------------------------\u001b[39m",
      "\u001b[31mNameError\u001b[39m                                 Traceback (most recent call last)",
      "\u001b[36mCell\u001b[39m\u001b[36m \u001b[39m\u001b[32mIn[1]\u001b[39m\u001b[32m, line 1\u001b[39m\n\u001b[32m----> \u001b[39m\u001b[32m1\u001b[39m pred = \u001b[43mDataPrediksjon\u001b[49m(df, målvaraibel = \u001b[33m\"\u001b[39m\u001b[33mTemperatur\u001b[39m\u001b[33m\"\u001b[39m)\n",
      "\u001b[31mNameError\u001b[39m: name 'DataPrediksjon' is not defined"
     ]
    }
   ],
   "source": [
    "pred = DataPrediksjon(df, målvaraibel = \"Temperatur\")"
   ]
  },
  {
   "cell_type": "markdown",
   "metadata": {},
   "source": [
    "#### Tren modell:\n",
    "- trener den lineære modellen på treningsdata. Bruker Pipeline med StandardScaler og OneHotEncoder."
   ]
  },
  {
   "cell_type": "code",
   "execution_count": null,
   "metadata": {},
   "outputs": [],
   "source": [
    "modell = pred.tren_lineær_modell()"
   ]
  },
  {
   "cell_type": "markdown",
   "metadata": {},
   "source": [
    "#### Tidsserieplott:\n",
    "Viser faktisk og predikert temperatur over tid i to linjediagrammer. Gir oversikt over tidsavhengig avvik."
   ]
  },
  {
   "cell_type": "code",
   "execution_count": null,
   "metadata": {},
   "outputs": [],
   "source": [
    "pred.visualiser_tidserie()"
   ]
  },
  {
   "cell_type": "markdown",
   "metadata": {},
   "source": [
    "#### Scatterplot:\n",
    "Sammenligner faktisk og predikert temperatur. "
   ]
  },
  {
   "cell_type": "code",
   "execution_count": null,
   "metadata": {},
   "outputs": [],
   "source": [
    "pred.visualiser_scatter()"
   ]
  },
  {
   "cell_type": "markdown",
   "metadata": {},
   "source": [
    "#### Boxplot av prediksjonsfeil per uke:\n",
    "Vi tar i bruk et boxplot for å vise spredningen i feil per uke. "
   ]
  },
  {
   "cell_type": "code",
   "execution_count": null,
   "metadata": {},
   "outputs": [],
   "source": [
    "pred.visualiser_feil_pr_uke()"
   ]
  },
  {
   "cell_type": "markdown",
   "metadata": {},
   "source": [
    "#### Modellevaluering:\n",
    "Evaluerer modellen på testsettet. R^2 måler forklaringsgrad mens RMSE viser gjennomsnittlig predikjsonsavvik."
   ]
  },
  {
   "cell_type": "code",
   "execution_count": null,
   "metadata": {},
   "outputs": [],
   "source": [
    "resultater = pred.evaluer_modell()\n",
    "print(\"Evalueringsresultater:\")\n",
    "for navn, res in resultater.items():\n",
    "    print(f\"f{navn}: R2= {res['R^2']:.3f}, RMSE= {res['RMSE']:.3f})"
   ]
  }
 ],
 "metadata": {
  "kernelspec": {
   "display_name": ".venv",
   "language": "python",
   "name": "python3"
  },
  "language_info": {
   "codemirror_mode": {
    "name": "ipython",
    "version": 3
   },
   "file_extension": ".py",
   "mimetype": "text/x-python",
   "name": "python",
   "nbconvert_exporter": "python",
   "pygments_lexer": "ipython3",
   "version": "3.13.2"
  }
 },
 "nbformat": 4,
 "nbformat_minor": 2
}
