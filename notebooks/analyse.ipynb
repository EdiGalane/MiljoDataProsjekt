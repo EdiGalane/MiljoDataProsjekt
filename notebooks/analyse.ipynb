{
 "cells": [
  {
   "cell_type": "markdown",
   "metadata": {},
   "source": [
    "# Analyse av Trondheim Forecast"
   ]
  },
  {
   "cell_type": "markdown",
   "metadata": {},
   "source": [
    "#### Import av nødvendige moduler og klasser:"
   ]
  },
  {
   "cell_type": "code",
   "execution_count": 1,
   "metadata": {},
   "outputs": [
    {
     "ename": "ModuleNotFoundError",
     "evalue": "No module named 'src'",
     "output_type": "error",
     "traceback": [
      "\u001b[31m---------------------------------------------------------------------------\u001b[39m",
      "\u001b[31mModuleNotFoundError\u001b[39m                       Traceback (most recent call last)",
      "\u001b[36mCell\u001b[39m\u001b[36m \u001b[39m\u001b[32mIn[1]\u001b[39m\u001b[32m, line 3\u001b[39m\n\u001b[32m      1\u001b[39m \u001b[38;5;28;01mimport\u001b[39;00m\u001b[38;5;250m \u001b[39m\u001b[34;01mpandas\u001b[39;00m\u001b[38;5;250m \u001b[39m\u001b[38;5;28;01mas\u001b[39;00m\u001b[38;5;250m \u001b[39m\u001b[34;01mpd\u001b[39;00m\n\u001b[32m      2\u001b[39m \u001b[38;5;28;01mimport\u001b[39;00m\u001b[38;5;250m \u001b[39m\u001b[34;01mnumpy\u001b[39;00m\u001b[38;5;250m \u001b[39m\u001b[38;5;28;01mas\u001b[39;00m\u001b[38;5;250m \u001b[39m\u001b[34;01mnp\u001b[39;00m\n\u001b[32m----> \u001b[39m\u001b[32m3\u001b[39m \u001b[38;5;28;01mfrom\u001b[39;00m\u001b[38;5;250m \u001b[39m\u001b[34;01msrc\u001b[39;00m\u001b[34;01m.\u001b[39;00m\u001b[34;01mdata_analysis\u001b[39;00m\u001b[38;5;250m \u001b[39m\u001b[38;5;28;01mimport\u001b[39;00m DataAnalyse\n\u001b[32m      4\u001b[39m \u001b[38;5;28;01mfrom\u001b[39;00m\u001b[38;5;250m \u001b[39m\u001b[34;01msrc\u001b[39;00m\u001b[34;01m.\u001b[39;00m\u001b[34;01mdata_reader\u001b[39;00m\u001b[38;5;250m \u001b[39m\u001b[38;5;28;01mimport\u001b[39;00m DataLeser\n",
      "\u001b[31mModuleNotFoundError\u001b[39m: No module named 'src'"
     ]
    }
   ],
   "source": [
    "import pandas as pd\n",
    "import numpy as np\n",
    "from src.data_analysis import DataAnalyse\n",
    "from src.data_reader import DataLeser"
   ]
  },
  {
   "cell_type": "markdown",
   "metadata": {},
   "source": [
    "#### Last inn renset data"
   ]
  },
  {
   "cell_type": "code",
   "execution_count": null,
   "metadata": {},
   "outputs": [],
   "source": [
    "dataleser= DataLeser()\n",
    "df_renset = dataleser.les_csv(\"data/renset_trondheim_forecast.csv\")"
   ]
  },
  {
   "cell_type": "markdown",
   "metadata": {},
   "source": [
    "#### Initialiser analyseobjekt:"
   ]
  },
  {
   "cell_type": "code",
   "execution_count": null,
   "metadata": {},
   "outputs": [],
   "source": [
    "analyse = DataAnalyse(df_renset)"
   ]
  },
  {
   "cell_type": "markdown",
   "metadata": {},
   "source": [
    "#### Statistisk analyse:\n",
    "- Bruker pandas sine .mean(), .median() og .std() til å beregne de ønskede statistiske målene. "
   ]
  },
  {
   "cell_type": "code",
   "execution_count": null,
   "metadata": {},
   "outputs": [],
   "source": [
    "stat_summary = analyse.beskriv_data\n",
    "print(stat_summary)"
   ]
  },
  {
   "cell_type": "markdown",
   "metadata": {},
   "source": [
    "Hvorfor bruke gjennomsnitt, median og standardavvik? \n",
    "- Gjennomsnitt gir et mål på sentraltrender, men kan påvirkes av ekstremverdier som ofte oppstår i naturen.\n",
    "- Median virker bra mot outliers og gir et stabilt bilde ved skjevfordelte data.\n",
    "- Standardavvik sier noe om hvor mye verdiene i datasettet varierer rundt snittet."
   ]
  },
  {
   "cell_type": "markdown",
   "metadata": {},
   "source": [
    "#### Korrelasjon mellom Temperatur og Fuktighet:\n",
    "- Viser sammenheng mellom to verdier i datasettet ved en korrelasjonskoeffisient (Pearson) som sier noe om hvor sterkt to variabler henger sammen. \n",
    "    - Positiv: temperatur stiger -> øker fuktighet\n",
    "    - Negativ: temperatur stiger -> synker fuktighet\n",
    "    - Nær null: liten eller ingen lineær sammenheng."
   ]
  },
  {
   "cell_type": "code",
   "execution_count": null,
   "metadata": {},
   "outputs": [],
   "source": [
    "kol1=\"Temperatur\"\n",
    "kol2=\"Fuktighet\"\n",
    "try:\n",
    "    korrelasjon = analyse.korrelasjon(kol1, kol2)\n",
    "    print(f\"Korrelasjon mellom {kol1} og {kol2}: {korrelasjon:.3f}\")\n",
    "except ValueError as e:\n",
    "    print(e)"
   ]
  },
  {
   "cell_type": "markdown",
   "metadata": {},
   "source": [
    "#### Indetifiser Outliers:\n",
    "- Outliers kan oppstå på grunn av feil i måling eller ekstreme hendelser.\n",
    "- I analysen av vær så vil outliers ofte oppstå grunnet endringer i vær. vi kan identifisere dem og senere inkludere dem i visualiseringen og prediktive modelleringer for å se hvordan de påvirker de ikke uteliggende verdiene."
   ]
  },
  {
   "cell_type": "code",
   "execution_count": null,
   "metadata": {},
   "outputs": [],
   "source": [
    "outliers = analyse.identifiser_outliers()\n",
    "print(f\"Antall rader der outliers identifiseres: {len(outliers)}\")"
   ]
  },
  {
   "cell_type": "markdown",
   "metadata": {},
   "source": [
    "- Metoden finner outliers ved å beregne en score:\n",
    "$$\n",
    "\\text{score} = \\frac{{observasjonsverdi} - \\text{gjennomsnitt}}{\\text{standardavvik}}\n",
    "$$\n",
    "- En høy verdi for score impliserer at det er en outlier.\n",
    "- Metoden bestemmer terskelverdien på 3.0 som er vanlig praksis innen statistikk."
   ]
  },
  {
   "cell_type": "markdown",
   "metadata": {},
   "source": [
    "#### Trendanalyse for temperatur:\n",
    "- Trendanalyse med glidende gjenomsnitt\n",
    "\n",
    "Ved å bruke rullerende gjennomsnitt over for eksempel 7 dager, glatter vi ut tilfeldige svingiger. Dette gir bedre innsikt for:\n",
    "- Klimatendens over uker.\n",
    "- Ujevnheter pga. værskifte"
   ]
  },
  {
   "cell_type": "code",
   "execution_count": null,
   "metadata": {},
   "outputs": [],
   "source": [
    "temp_trend = analyse.kolonne_trend(\"Temperatur\", vindu=7)\n",
    "print(\"Glidende 7-dagers snitt for temperatur:\")\n",
    "print(temp_trend-head(10))"
   ]
  },
  {
   "cell_type": "markdown",
   "metadata": {},
   "source": [
    "- Det kan være at de første radene av outputen er manglende verdier. Forklaringen på dette er at vi ikke har nok tidligere datapunkter. \n",
    "- Verdiene vi får ut er gjennomsnittet over en 7 dagers periode. \n",
    "\n",
    "- Disse er svært yttige i neste steg som er Visualiseringen. "
   ]
  },
  {
   "cell_type": "markdown",
   "metadata": {},
   "source": []
  }
 ],
 "metadata": {
  "kernelspec": {
   "display_name": ".venv",
   "language": "python",
   "name": "python3"
  },
  "language_info": {
   "codemirror_mode": {
    "name": "ipython",
    "version": 3
   },
   "file_extension": ".py",
   "mimetype": "text/x-python",
   "name": "python",
   "nbconvert_exporter": "python",
   "pygments_lexer": "ipython3",
   "version": "3.13.2"
  }
 },
 "nbformat": 4,
 "nbformat_minor": 2
}
