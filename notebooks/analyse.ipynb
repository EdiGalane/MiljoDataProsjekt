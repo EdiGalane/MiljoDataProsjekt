{
 "cells": [
  {
   "cell_type": "markdown",
   "metadata": {},
   "source": [
    "# Analyse av Trondheim Forecast"
   ]
  },
  {
   "cell_type": "markdown",
   "metadata": {},
   "source": [
    "#### Import av nødvendige moduler og klasser:"
   ]
  },
  {
   "cell_type": "code",
   "execution_count": 1,
   "metadata": {},
   "outputs": [],
   "source": [
    "import sys\n",
    "import os\n",
    "import pandas as pd\n",
    "import numpy as np\n",
    "\n",
    "sys.path.append(os.path.abspath(\"../src\"))\n",
    "\n",
    "\n",
    "from data_analysis import DataAnalyse\n",
    "from data_reader import DataLeser"
   ]
  },
  {
   "cell_type": "markdown",
   "metadata": {},
   "source": [
    "#### Last inn renset data"
   ]
  },
  {
   "cell_type": "code",
   "execution_count": 2,
   "metadata": {},
   "outputs": [],
   "source": [
    "dataleser= DataLeser(data_dir=\"../data\")\n",
    "df_renset = dataleser.les_csv(\"trondheim_forecast_cleaned.csv\")"
   ]
  },
  {
   "cell_type": "markdown",
   "metadata": {},
   "source": [
    "#### Initialiser analyseobjekt:"
   ]
  },
  {
   "cell_type": "code",
   "execution_count": 3,
   "metadata": {},
   "outputs": [],
   "source": [
    "analyse = DataAnalyse(df_renset)"
   ]
  },
  {
   "cell_type": "markdown",
   "metadata": {},
   "source": [
    "#### Statistisk analyse:\n",
    "- Bruker pandas sine .mean(), .median() og .std() til å beregne de ønskede statistiske målene. "
   ]
  },
  {
   "cell_type": "code",
   "execution_count": 4,
   "metadata": {},
   "outputs": [
    {
     "name": "stdout",
     "output_type": "stream",
     "text": [
      "               Gjennomsnitt   Median  Standardavvik\n",
      "Temperatur        12.295349    12.15       3.094128\n",
      "Fuktighet         76.436047    78.55      13.667358\n",
      "Trykk           1003.611628  1002.45       4.215334\n",
      "Vindhastighet      2.633721     2.40       1.265247\n"
     ]
    }
   ],
   "source": [
    "stat_summary = analyse.beskriv_data()\n",
    "print(stat_summary)"
   ]
  },
  {
   "cell_type": "markdown",
   "metadata": {},
   "source": [
    "Hvorfor bruke gjennomsnitt, median og standardavvik? \n",
    "- Gjennomsnitt gir et mål på sentraltrender, men kan påvirkes av ekstremverdier som ofte oppstår i naturen.\n",
    "- Median virker bra mot outliers og gir et stabilt bilde ved skjevfordelte data.\n",
    "- Standardavvik sier noe om hvor mye verdiene i datasettet varierer rundt snittet."
   ]
  },
  {
   "cell_type": "markdown",
   "metadata": {},
   "source": [
    "#### Korrelasjon mellom Temperatur og Fuktighet:\n",
    "- Viser sammenheng mellom to verdier i datasettet ved en korrelasjonskoeffisient (Pearson) som sier noe om hvor sterkt to variabler henger sammen. \n",
    "    - Positiv: temperatur stiger -> øker fuktighet\n",
    "    - Negativ: temperatur stiger -> synker fuktighet\n",
    "    - Nær null: liten eller ingen lineær sammenheng."
   ]
  },
  {
   "cell_type": "code",
   "execution_count": 5,
   "metadata": {},
   "outputs": [
    {
     "name": "stdout",
     "output_type": "stream",
     "text": [
      "Korrelasjon mellom Temperatur og Fuktighet: -0.850\n"
     ]
    }
   ],
   "source": [
    "kol1=\"Temperatur\"\n",
    "kol2=\"Fuktighet\"\n",
    "try:\n",
    "    korrelasjon = analyse.korrelasjon(kol1, kol2)\n",
    "    print(f\"Korrelasjon mellom {kol1} og {kol2}: {korrelasjon:.3f}\")\n",
    "except ValueError as e:\n",
    "    print(e)"
   ]
  },
  {
   "cell_type": "markdown",
   "metadata": {},
   "source": [
    "Vi ser at når temperaturen øker så har fuktigheten synket. Dette gir menning. \n",
    "Varme luftmasser kan holde på mer vanndamp som impliserer at relativ fuktighet synker selv om mengden damp er lik.\n",
    "- Dermed; på varme, tørre dager ser vi ofte en lav relativ fuktighet. Mens på kalde netter øker relativ fuktighet."
   ]
  },
  {
   "cell_type": "markdown",
   "metadata": {},
   "source": [
    "#### Indetifiser Outliers:\n",
    "- Outliers kan oppstå på grunn av feil i måling eller ekstreme hendelser.\n",
    "- I analysen av vær så vil outliers ofte oppstå grunnet endringer i vær. vi kan identifisere dem og senere inkludere dem i visualiseringen og prediktive modelleringer for å se hvordan de påvirker de ikke uteliggende verdiene."
   ]
  },
  {
   "cell_type": "code",
   "execution_count": 6,
   "metadata": {},
   "outputs": [
    {
     "name": "stdout",
     "output_type": "stream",
     "text": [
      "Antall rader der outliers identifiseres: 8\n"
     ]
    }
   ],
   "source": [
    "outliers = analyse.identifiser_outliers(threshold=2.5)\n",
    "print(f\"Antall rader der outliers identifiseres: {len(outliers)}\")"
   ]
  },
  {
   "cell_type": "markdown",
   "metadata": {},
   "source": [
    "- Metoden finner outliers ved å beregne en score:\n",
    "$$\n",
    "\\text{score} = \\frac{{observasjonsverdi} - \\text{gjennomsnitt}}{\\text{standardavvik}}\n",
    "$$\n",
    "- En høy verdi for score impliserer at det er en outlier.\n",
    "- Metoden bestemmer terskelverdien på 2.5 som betyr at en verdi ligger 2.5 standardavvik unna gjennomsnittet.\n",
    "\n",
    "- Vi ser at analysen gir en lav mengde outliers. Vi vet at dette er korrekt siden dersom vi minker denne verdier så får vi mange flere uteliggere. Dette er grunnet det av vi har et lite datasett som har god datakvalitet. Originalt hadde vi 3.0 som terskel, men endret dette siden vi fikk ingen outliers."
   ]
  },
  {
   "cell_type": "markdown",
   "metadata": {},
   "source": [
    "#### Trendanalyse for temperatur:\n",
    "- Trendanalyse med glidende gjenomsnitt\n",
    "\n",
    "Ved å bruke rullerende gjennomsnitt over for eksempel 7 dager, glatter vi ut tilfeldige svingiger. Dette gir bedre innsikt for:\n",
    "- Klimatendens over uker.\n",
    "- Ujevnheter pga. værskifte"
   ]
  },
  {
   "cell_type": "code",
   "execution_count": 7,
   "metadata": {},
   "outputs": [
    {
     "name": "stdout",
     "output_type": "stream",
     "text": [
      "Glidende 7-dagers snitt for temperatur:\n",
      "0    11.700000\n",
      "1    10.900000\n",
      "2    10.266667\n",
      "3     9.900000\n",
      "4     9.600000\n",
      "5     9.300000\n",
      "6     9.071429\n",
      "7     8.428571\n",
      "8     7.928571\n",
      "9     7.542857\n",
      "Name: Temperatur, dtype: float64\n"
     ]
    }
   ],
   "source": [
    "temp_trend = analyse.kolonne_trend(\"Temperatur\", vindu=7)\n",
    "print(\"Glidende 7-dagers snitt for temperatur:\")\n",
    "print(temp_trend.head(10))"
   ]
  },
  {
   "cell_type": "markdown",
   "metadata": {},
   "source": [
    "\n",
    "- Verdiene vi får ut er gjennomsnittet over en 7 dagers periode. Denne viser en gradvis nedkjøling over perioden. De første verdiene er høyere og basert på få datapunkter, men etter at flere mplinger inkluderes, stabiliseres trendlinjen seg og gir et mer tydelig bilde.\n",
    "\n",
    "- Et mulig feilestimat her er sorteringen av tid før rolling() brukes. Dersom senere datoer ligger først, kan dette gi feilretning på trenden.\n",
    "\n",
    "- Disse verdiene er nyttige i neste steg som er Visualiseringen. "
   ]
  },
  {
   "cell_type": "markdown",
   "metadata": {},
   "source": []
  }
 ],
 "metadata": {
  "kernelspec": {
   "display_name": ".venv",
   "language": "python",
   "name": "python3"
  },
  "language_info": {
   "codemirror_mode": {
    "name": "ipython",
    "version": 3
   },
   "file_extension": ".py",
   "mimetype": "text/x-python",
   "name": "python",
   "nbconvert_exporter": "python",
   "pygments_lexer": "ipython3",
   "version": "3.13.2"
  }
 },
 "nbformat": 4,
 "nbformat_minor": 2
}
