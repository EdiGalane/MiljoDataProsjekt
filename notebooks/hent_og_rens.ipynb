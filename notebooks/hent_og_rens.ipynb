{
 "cells": [
  {
   "cell_type": "markdown",
   "metadata": {},
   "source": [
    "# Henting, lesing, og rensing av Trondheim forecast"
   ]
  },
  {
   "cell_type": "markdown",
   "metadata": {},
   "source": [
    "### Utviklingsmiljøet:\n",
    "Arbeidet med utviklingen av gruppe 84 sin miljødataaplikasjon har hovedsakelig foregått på brukeren Edi Galane sin github og VScode. De andre brukerene har bidrat med å skrive ulike deler av koden og funksjonaliteten, men endringene til selve koden har blitt utført gjennom Edi Galane din datamaskin. "
   ]
  },
  {
   "cell_type": "markdown",
   "metadata": {},
   "source": [
    "### Valg av API:\n",
    "Datagrunnlaget for dette prosjektet har vært basert på MET.no (Meteorologisk institutt) sin åpne Locationforecast 2.0.\n",
    "\n",
    "Det meteorologiske instituttet er en svært pålitelig kilde og Locationforecast 2.0 er et av deres høyest kurerte produkter. Til tross for at databasen er av høyest kvalitet, så er det nødvendig å utføre utforskende metoder for å sikre dens kvalitet og hente ut kun de nødvendige informasjonene. "
   ]
  },
  {
   "cell_type": "markdown",
   "metadata": {},
   "source": [
    "#### Import av nødvendige moduler og klasser:"
   ]
  },
  {
   "cell_type": "code",
   "execution_count": null,
   "metadata": {},
   "outputs": [],
   "source": [
    "import os\n",
    "import sys\n",
    "\n",
    "# legger til src-mappen i systemstien\n",
    "sys.path.append(os.path.abspath(os.path.join(os.getcwd(), \"..\", \"src\")))\n",
    "\n",
    "# import av egne moduler og klasser\n",
    "from fetch_data import FetchData\n",
    "from data_reader import DataLeser\n",
    "from data_cleaning import DataRensing\n"
   ]
  },
  {
   "cell_type": "markdown",
   "metadata": {},
   "source": [
    "#### Henting og lagring av nødvendig rådata:"
   ]
  },
  {
   "cell_type": "code",
   "execution_count": null,
   "metadata": {},
   "outputs": [],
   "source": [
    "henter = FetchData()\n",
    "henter.lagre_trondheim_forecast()"
   ]
  },
  {
   "cell_type": "markdown",
   "metadata": {},
   "source": [
    "- lagre_trondheim_forecast() er en metode fra FetchData som har innebygd metoder for å hente en JSON-fil fra Locationforecast2.0 og flate den ut til en CSV-fil basert på parametrene for byen Trondheim."
   ]
  },
  {
   "cell_type": "markdown",
   "metadata": {},
   "source": [
    "#### Les og beskriv:"
   ]
  },
  {
   "cell_type": "code",
   "execution_count": null,
   "metadata": {},
   "outputs": [],
   "source": [
    "leser = DataLeser()\n",
    "df_raw = leser.les_csv(\"trondheim_forecast_uncleaned.csv\")  \n",
    "leser.beskriv_dataframe(df_raw, \"trondheim_forecast_uncleaned.csv\")"
   ]
  },
  {
   "cell_type": "markdown",
   "metadata": {},
   "source": [
    "- Her ser vi de 5 første radene av det urensede datasettet. Neste steg er å velge ut de nødvendige kolonnene og rense dem."
   ]
  },
  {
   "cell_type": "markdown",
   "metadata": {},
   "source": [
    "#### Rense og lagre:"
   ]
  },
  {
   "cell_type": "code",
   "execution_count": null,
   "metadata": {},
   "outputs": [],
   "source": [
    "renser = DataRensing(df_raw)\n",
    "\n",
    "# Brukerinput\n",
    "temp_input = input(\"Filtrer ut temperatur over (la stå tom for å hoppe over): \")\n",
    "avrund_input = input(\"Vil du avrunde en kolonne? (la stå tom for å hoppe over): \")\n",
    "desimal_input = input(\"Hvor mange desimaler? (standard = 1): \")\n",
    "\n",
    "# Konversjon av input\n",
    "temp_grense = float(temp_input) if temp_input else None\n",
    "avrund_kol = avrund_input if avrund_input else None\n",
    "desimaler = int(desimal_input) if desimal_input else 1\n",
    "\n",
    "# Bruker data_rens metoden\n",
    "df_cleaned = renser.data_rens( \n",
    "    temp_grense=temp_grense,\n",
    "    avrund_kol=avrund_kol,\n",
    "    desimaler=desimaler,\n",
    "    filnavn=\"trondheim_forecast_cleaned.csv\",\n",
    "    undermappe=\"data/csv\"\n",
    ")\n"
   ]
  }
 ],
 "metadata": {
  "kernelspec": {
   "display_name": ".venv",
   "language": "python",
   "name": "python3"
  },
  "language_info": {
   "name": "python",
   "version": "3.13.2"
  }
 },
 "nbformat": 4,
 "nbformat_minor": 2
}
