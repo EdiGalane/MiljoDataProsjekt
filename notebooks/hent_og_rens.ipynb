{
 "cells": [
  {
   "cell_type": "markdown",
   "metadata": {},
   "source": [
    "# Henting, lesing, og rensing av Trondheim forecast"
   ]
  },
  {
   "cell_type": "markdown",
   "metadata": {},
   "source": [
    "### Utviklingsmiljøet:\n",
    "Arbeidet med utviklingen av gruppe 84 sin miljødataaplikasjon har hovedsakelig foregått på brukeren Edi Galane sin github og VScode. De andre brukerene har bidrat med å skrive ulike deler av koden og funksjonaliteten, men endringene til selve koden har blitt utført gjennom Edi Galane din datamaskin. "
   ]
  },
  {
   "cell_type": "markdown",
   "metadata": {},
   "source": [
    "### Valg av API:\n",
    "Datagrunnlaget for dette prosjektet har vært basert på MET.no (Meteorologisk institutt) sin åpne Locationforecast 2.0.\n",
    "\n",
    "Det meteorologiske instituttet er en svært pålitelig kilde og Locationforecast 2.0 er et av deres høyest kurerte produkter. Til tross for at databasen er av høyest kvalitet, så er det nødvendig å utføre utforskende metoder for å sikre dens kvalitet og hente ut kun de nødvendige informasjonene. "
   ]
  },
  {
   "cell_type": "markdown",
   "metadata": {},
   "source": [
    "#### Import av nødvendige moduler og klasser:"
   ]
  },
  {
   "cell_type": "code",
   "execution_count": 3,
   "metadata": {},
   "outputs": [
    {
     "ename": "ModuleNotFoundError",
     "evalue": "No module named 'fetch_data'",
     "output_type": "error",
     "traceback": [
      "\u001b[31m---------------------------------------------------------------------------\u001b[39m",
      "\u001b[31mModuleNotFoundError\u001b[39m                       Traceback (most recent call last)",
      "\u001b[36mCell\u001b[39m\u001b[36m \u001b[39m\u001b[32mIn[3]\u001b[39m\u001b[32m, line 8\u001b[39m\n\u001b[32m      5\u001b[39m sys.path.append(os.path.abspath(os.path.join(os.getcwd(), \u001b[33m\"\u001b[39m\u001b[33m..\u001b[39m\u001b[33m\"\u001b[39m, \u001b[33m\"\u001b[39m\u001b[33msrc\u001b[39m\u001b[33m\"\u001b[39m)))\n\u001b[32m      7\u001b[39m \u001b[38;5;66;03m# import av egne moduler og klasser\u001b[39;00m\n\u001b[32m----> \u001b[39m\u001b[32m8\u001b[39m \u001b[38;5;28;01mfrom\u001b[39;00m\u001b[38;5;250m \u001b[39m\u001b[34;01mfetch_data\u001b[39;00m\u001b[38;5;250m \u001b[39m\u001b[38;5;28;01mimport\u001b[39;00m FetchData\n\u001b[32m      9\u001b[39m \u001b[38;5;28;01mfrom\u001b[39;00m\u001b[38;5;250m \u001b[39m\u001b[34;01mdata_reader\u001b[39;00m\u001b[38;5;250m \u001b[39m\u001b[38;5;28;01mimport\u001b[39;00m DataLeser\n\u001b[32m     10\u001b[39m \u001b[38;5;28;01mfrom\u001b[39;00m\u001b[38;5;250m \u001b[39m\u001b[34;01mdata_cleaning\u001b[39;00m\u001b[38;5;250m \u001b[39m\u001b[38;5;28;01mimport\u001b[39;00m DataRensing\n",
      "\u001b[31mModuleNotFoundError\u001b[39m: No module named 'fetch_data'"
     ]
    }
   ],
   "source": [
    "import os\n",
    "import sys\n",
    "\n",
    "# legger til src-mappen i systemstien\n",
    "sys.path.append(os.path.abspath(os.path.join(os.getcwd(), \"..\", \"src\")))\n",
    "\n",
    "# import av egne moduler og klasser\n",
    "from fetch_data import FetchData\n",
    "from data_reader import DataLeser\n",
    "from data_cleaning import DataRensing\n"
   ]
  },
  {
   "cell_type": "markdown",
   "metadata": {},
   "source": [
    "#### Henting og lagring av nødvendig rådata:"
   ]
  },
  {
   "cell_type": "code",
   "execution_count": null,
   "metadata": {},
   "outputs": [],
   "source": [
    "henter = FetchData()\n",
    "henter.lagre_trondheim_forecast()"
   ]
  },
  {
   "cell_type": "markdown",
   "metadata": {},
   "source": [
    "- lagre_trondheim_forecast() er en metode fra FetchData som har innebygd metoder for å hente en JSON-fil fra Locationforecast2.0 og flate den ut til en CSV-fil basert på parametrene for byen Trondheim."
   ]
  },
  {
   "cell_type": "markdown",
   "metadata": {},
   "source": [
    "#### Les og beskriv:"
   ]
  },
  {
   "cell_type": "code",
   "execution_count": null,
   "metadata": {},
   "outputs": [],
   "source": [
    "leser = DataLeser()\n",
    "df_raw = leser.les_csv(\"trondheim_forecast_uncleaned.csv\")  \n",
    "leser.beskriv_dataframe(df_raw, \"trondheim_forecast_uncleaned.csv\")"
   ]
  },
  {
   "cell_type": "markdown",
   "metadata": {},
   "source": [
    "- Her ser vi de 5 første radene av det urensede datasettet. Neste steg er å velge ut de nødvendige kolonnene og rense dem."
   ]
  },
  {
   "cell_type": "markdown",
   "metadata": {},
   "source": [
    "#### Rense og lagre:\n",
    "- Her tas data_rens metoden i bruk fra DataRensing klassen. Den inkluderer følgende metoder:\n",
    "    - Brukerinteraktivitet for avrunding og filtrering av kolonner.\n",
    "    - Bygging av en ny pandas DataFrame.\n",
    "    - Fjerning av duplikater for å unngå overrepresentasjon av datapunkter. \n",
    "    - Median imputasjon for manglende verdier som bevarer semtraltendenser uten å påvirkes ekstreme verdier.\n",
    "    - Bearbeiding av tidsstempler til lesbar datetime format.\n",
    "    - Lagring av det nye pandas DataFrame til data mappen under \"csv\".\n",
    "           "
   ]
  },
  {
   "cell_type": "code",
   "execution_count": null,
   "metadata": {},
   "outputs": [],
   "source": [
    "renser = DataRensing(df_raw)\n",
    "\n",
    "# Brukerinput\n",
    "temp_input = input(\"Filtrer ut temperatur over (la stå tom for å hoppe over): \")\n",
    "avrund_input = input(\"Vil du avrunde en kolonne? (la stå tom for å hoppe over): \")\n",
    "desimal_input = input(\"Hvor mange desimaler? (standard = 1): \")\n",
    "\n",
    "# Konversjon av input\n",
    "temp_grense = float(temp_input) if temp_input else None\n",
    "avrund_kol = avrund_input if avrund_input else None\n",
    "desimaler = int(desimal_input) if desimal_input else 1\n",
    "\n",
    "# Bruker data_rens metoden\n",
    "df_cleaned = renser.data_rens( \n",
    "    temp_grense=temp_grense,\n",
    "    avrund_kol=avrund_kol,\n",
    "    desimaler=desimaler,\n",
    "    filnavn=\"trondheim_forecast_cleaned.csv\",\n",
    "    undermappe=\"data/csv\"\n",
    ")\n",
    "\n",
    "# Beskriv det rensede datasettet\n",
    "leser.beskriv_dataframe(df_cleaned,trondheim_forecast_cleaned.csv)"
   ]
  },
  {
   "cell_type": "markdown",
   "metadata": {},
   "source": [
    "Etter rensingen har vi ulike transformasjoner:\n",
    "- Kolonnene [Tid, Temperatur, Fuktighet, Trykk, Vindhastighet] er bevart og omdøpt til lesbare navn. \n",
    "- Duplikater fjernes for å unngå at analysen blir skjevfordelt eller vektet feil.\n",
    "- Manglende verdier inputeres som medianen siden denne ikke påvirkes av ekstreme uteliggere som kan oppdages i værdata grunnet dens urregelmessighet\n",
    "- Resultatet er en DataFrame som lettere kan analyseres og modelleres. "
   ]
  },
  {
   "cell_type": "markdown",
   "metadata": {},
   "source": [
    "#### SQL-spørring\n",
    "Vi har også implementert en valgfritt sql_utforsk metode i DataLeser. Men hva gjør SQL egentlig?\n",
    "- Filtrerer data raskt basert på bestemte kriterier.\n",
    "- Velger ut spesifikke kolonner og rader.\n",
    "- Utfører aggregering som gjennomsnitt, maks, min, grupperinger osv..."
   ]
  },
  {
   "cell_type": "code",
   "execution_count": null,
   "metadata": {},
   "outputs": [],
   "source": [
    "sql_query = \"\"\"\n",
    "SELECT\n",
    "    Tid,\n",
    "    Temperatur,\n",
    "    Fuktighet,\n",
    "    Trykk,\n",
    "    Vindhastighet\n",
    "FROM df\n",
    "WHERE Temperatur > 10\n",
    "ORDER BY Tid ASC\n",
    "LIMIT 10\n",
    "\"\"\"\n",
    "\n",
    "print(\"Hent de 10 første radene med temperatur > 10 grader celcius\")\n",
    "try:\n",
    "    df_sql = leser.sql_utforsk(df_cleaned, sql_query)\n",
    "    display(df_sql)\n",
    "except ValueError as e:\n",
    "    print(f\"Feil i SQL-spørring: {e}\")"
   ]
  },
  {
   "cell_type": "markdown",
   "metadata": {},
   "source": [
    "SQL-spørringen over henter de første 10 radene der temperaturen er over 10. Den viser tidspunktet, temperaturen, fuktigheten, trykket og vindhastigheten.\n",
    "- Dette hjelper med å se hvordan ulike varaibler oppfører seg sammen under forhold over 10 grader celcius."
   ]
  }
 ],
 "metadata": {
  "kernelspec": {
   "display_name": ".venv",
   "language": "python",
   "name": "python3"
  },
  "language_info": {
   "codemirror_mode": {
    "name": "ipython",
    "version": 3
   },
   "file_extension": ".py",
   "mimetype": "text/x-python",
   "name": "python",
   "nbconvert_exporter": "python",
   "pygments_lexer": "ipython3",
   "version": "3.13.2"
  }
 },
 "nbformat": 4,
 "nbformat_minor": 2
}
