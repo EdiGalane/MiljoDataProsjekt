{
 "cells": [
  {
   "cell_type": "markdown",
   "metadata": {},
   "source": [
    "# Henting, lesing, og rensing av Trondheim forecast"
   ]
  },
  {
   "cell_type": "markdown",
   "metadata": {},
   "source": [
    "### Utviklingsmiljøet:\n",
    "Arbeidet med utviklingen av gruppe 84 sin miljødataaplikasjon har hovedsakelig foregått på brukeren Edi Galane sin github og VScode. De andre brukerene har bidrat med å skrive ulike deler av koden og funksjonaliteten, men endringene til selve koden har blitt utført gjennom Edi Galane din datamaskin. "
   ]
  },
  {
   "cell_type": "markdown",
   "metadata": {},
   "source": [
    "### Valg av API:\n",
    "Datagrunnlaget for dette prosjektet har vært basert på MET.no (Meteorologisk institutt) sin åpne Locationforecast 2.0.\n",
    "\n",
    "Det meteorologiske instituttet er en svært pålitelig kilde og Locationforecast 2.0 er et av deres høyest kurerte produkter. Til tross for at databasen er av høyest kvalitet, så er det nødvendig å utføre utforskende metoder for å sikre dens kvalitet og hente ut kun de nødvendige informasjonene. "
   ]
  },
  {
   "cell_type": "markdown",
   "metadata": {},
   "source": [
    "#### Import av nødvendige moduler og klasser:"
   ]
  },
  {
   "cell_type": "code",
   "execution_count": 1,
   "metadata": {},
   "outputs": [
    {
     "name": "stdout",
     "output_type": "stream",
     "text": [
      "Jeg kjører notebooken fra: /Users/edigalane/kode/MiljoDataProsjekt/notebooks\n"
     ]
    }
   ],
   "source": [
    "import os\n",
    "print(\"Jeg kjører notebooken fra:\", os.getcwd())\n"
   ]
  },
  {
   "cell_type": "code",
   "execution_count": 2,
   "metadata": {},
   "outputs": [],
   "source": [
    "import os\n",
    "import sys\n",
    "\n",
    "# finn sti til src-mappen\n",
    "sys.path.append(os.path.abspath(\"../src\"))\n",
    "\n",
    "# import av egne moduler og klasser\n",
    "from fetch_data import FetchData\n",
    "from data_reader import DataLeser\n",
    "from data_cleaning import DataRensing\n"
   ]
  },
  {
   "cell_type": "markdown",
   "metadata": {},
   "source": [
    "#### Henting og lagring av nødvendig rådata:"
   ]
  },
  {
   "cell_type": "code",
   "execution_count": 3,
   "metadata": {},
   "outputs": [],
   "source": [
    "henter = FetchData()\n",
    "df = henter.lagre_trondheim_forecast()"
   ]
  },
  {
   "cell_type": "markdown",
   "metadata": {},
   "source": [
    "- lagre_trondheim_forecast() er en metode fra FetchData som har innebygd metoder for å hente en JSON-fil fra Locationforecast2.0 og flate den ut til en CSV-fil basert på parametrene for byen Trondheim."
   ]
  },
  {
   "cell_type": "markdown",
   "metadata": {},
   "source": [
    "#### Les og beskriv:"
   ]
  },
  {
   "cell_type": "code",
   "execution_count": 4,
   "metadata": {},
   "outputs": [
    {
     "name": "stdout",
     "output_type": "stream",
     "text": [
      "\n",
      "--- trondheim_forecast_uncleaned.csv ---\n",
      "Antall rader: 84\n",
      "Antall kolonner: 12\n",
      "De 5 første radene:\n",
      "                   time  data_instant_details_air_pressure_at_sea_level  \\\n",
      "0  2025-05-27T02:00:00Z                                          1001.4   \n",
      "1  2025-05-27T03:00:00Z                                          1001.5   \n",
      "2  2025-05-27T04:00:00Z                                          1001.4   \n",
      "3  2025-05-27T05:00:00Z                                          1001.6   \n",
      "4  2025-05-27T06:00:00Z                                          1001.4   \n",
      "\n",
      "   data_instant_details_air_temperature  \\\n",
      "0                                   5.6   \n",
      "1                                   5.7   \n",
      "2                                   7.2   \n",
      "3                                   8.7   \n",
      "4                                  10.1   \n",
      "\n",
      "   data_instant_details_cloud_area_fraction  \\\n",
      "0                                       1.6   \n",
      "1                                      10.8   \n",
      "2                                      79.4   \n",
      "3                                      71.1   \n",
      "4                                      24.4   \n",
      "\n",
      "   data_instant_details_relative_humidity  \\\n",
      "0                                    91.4   \n",
      "1                                    90.9   \n",
      "2                                    86.7   \n",
      "3                                    80.2   \n",
      "4                                    70.2   \n",
      "\n",
      "   data_instant_details_wind_from_direction  data_instant_details_wind_speed  \\\n",
      "0                                     209.4                              2.0   \n",
      "1                                     208.4                              1.8   \n",
      "2                                     201.7                              0.6   \n",
      "3                                     174.2                              0.7   \n",
      "4                                     178.2                              1.2   \n",
      "\n",
      "  data_next_12_hours_summary_symbol_code  \\\n",
      "0                       partlycloudy_day   \n",
      "1                       partlycloudy_day   \n",
      "2                       partlycloudy_day   \n",
      "3                       partlycloudy_day   \n",
      "4                       partlycloudy_day   \n",
      "\n",
      "  data_next_1_hours_summary_symbol_code  \\\n",
      "0                          clearsky_day   \n",
      "1                          clearsky_day   \n",
      "2                      partlycloudy_day   \n",
      "3                      partlycloudy_day   \n",
      "4                              fair_day   \n",
      "\n",
      "   data_next_1_hours_details_precipitation_amount  \\\n",
      "0                                             0.0   \n",
      "1                                             0.0   \n",
      "2                                             0.0   \n",
      "3                                             0.0   \n",
      "4                                             0.0   \n",
      "\n",
      "  data_next_6_hours_summary_symbol_code  \\\n",
      "0                              fair_day   \n",
      "1                      partlycloudy_day   \n",
      "2                              fair_day   \n",
      "3                              fair_day   \n",
      "4                              fair_day   \n",
      "\n",
      "   data_next_6_hours_details_precipitation_amount  \n",
      "0                                             0.0  \n",
      "1                                             0.0  \n",
      "2                                             0.0  \n",
      "3                                             0.0  \n",
      "4                                             0.0  \n"
     ]
    }
   ],
   "source": [
    "leser = DataLeser(data_dir=\"../data\")\n",
    "df_raw = leser.les_csv(\"trondheim_forecast_uncleaned.csv\")  \n",
    "leser.beskriv_dataframe(df_raw, \"trondheim_forecast_uncleaned.csv\")"
   ]
  },
  {
   "cell_type": "markdown",
   "metadata": {},
   "source": [
    "- Her ser vi de 5 første radene av det urensede datasettet. Neste steg er å velge ut de nødvendige kolonnene og rense dem."
   ]
  },
  {
   "cell_type": "markdown",
   "metadata": {},
   "source": [
    "#### Rense og lagre:\n",
    "- Her tas data_rens metoden i bruk fra DataRensing klassen. Den inkluderer følgende metoder:\n",
    "    - Brukerinteraktivitet for avrunding og filtrering av kolonner.\n",
    "    - Bygging av en ny pandas DataFrame.\n",
    "    - Fjerning av duplikater for å unngå overrepresentasjon av datapunkter. \n",
    "    - Median imputasjon for manglende verdier som bevarer semtraltendenser uten å påvirkes ekstreme verdier.\n",
    "    - Bearbeiding av tidsstempler til lesbar datetime format.\n",
    "    - Lagring av det nye pandas DataFrame til data mappen under \"csv\".\n",
    "           "
   ]
  },
  {
   "cell_type": "code",
   "execution_count": 5,
   "metadata": {},
   "outputs": [
    {
     "name": "stdout",
     "output_type": "stream",
     "text": [
      "Ny dataframe bygget\n",
      "Kolonner: ['Tid', 'Temperatur', 'Fuktighet', 'Trykk', 'Vindhastighet']\n",
      "Antall duplikater: 0, Antall manglende verdier: 0\n",
      "MAnglende verdier og fuplikater håndtert\n",
      "Tid formatert\n",
      "Data lagret til /Users/edigalane/kode/MiljoDataProsjekt/data/trondheim_forecast_cleaned.csv\n",
      "Data er ferdigrenset\n",
      "\n",
      "--- trondheim_forecast_cleaned.csv ---\n",
      "Antall rader: 84\n",
      "Antall kolonner: 5\n",
      "De 5 første radene:\n",
      "                Tid  Temperatur  Fuktighet   Trykk  Vindhastighet\n",
      "0  27.05.25 - 02:00         5.6       91.4  1001.4            2.0\n",
      "1  27.05.25 - 03:00         5.7       90.9  1001.5            1.8\n",
      "2  27.05.25 - 04:00         7.2       86.7  1001.4            0.6\n",
      "3  27.05.25 - 05:00         8.7       80.2  1001.6            0.7\n",
      "4  27.05.25 - 06:00        10.1       70.2  1001.4            1.2\n"
     ]
    }
   ],
   "source": [
    "renser = DataRensing(df_raw)\n",
    "\n",
    "# Brukerinput\n",
    "temp_input = input(\"Filtrer ut temperatur over (la stå tom for å hoppe over): \")\n",
    "avrund_input = input(\"Vil du avrunde en kolonne? (la stå tom for å hoppe over): \")\n",
    "desimal_input = input(\"Hvor mange desimaler? (standard = 1): \")\n",
    "\n",
    "# Konversjon av input\n",
    "temp_grense = float(temp_input) if temp_input else None\n",
    "avrund_kol = avrund_input if avrund_input else None\n",
    "desimaler = int(desimal_input) if desimal_input else 1\n",
    "\n",
    "# Bruker data_rens metoden\n",
    "df_cleaned = renser.data_rens( \n",
    "    temp_grense=temp_grense,\n",
    "    avrund_kol=avrund_kol,\n",
    "    desimaler=desimaler,\n",
    "    filnavn=\"trondheim_forecast_cleaned.csv\"\n",
    ")\n",
    "\n",
    "# Beskriv det rensede datasettet\n",
    "leser.beskriv_dataframe(df_cleaned,\"trondheim_forecast_cleaned.csv\")"
   ]
  },
  {
   "cell_type": "markdown",
   "metadata": {},
   "source": [
    "Etter rensingen har vi ulike transformasjoner:\n",
    "- Kolonnene [Tid, Temperatur, Fuktighet, Trykk, Vindhastighet] er bevart og omdøpt til lesbare navn. \n",
    "- Duplikater fjernes for å unngå at analysen blir skjevfordelt eller vektet feil.\n",
    "- Manglende verdier inputeres som medianen siden denne ikke påvirkes av ekstreme uteliggere som kan oppdages i værdata grunnet dens urregelmessighet\n",
    "- Resultatet er en DataFrame som lettere kan analyseres og modelleres. "
   ]
  },
  {
   "cell_type": "markdown",
   "metadata": {},
   "source": [
    "#### SQL-spørring\n",
    "Vi har også implementert en valgfritt sql_utforsk metode i DataLeser. Men hva gjør SQL egentlig?\n",
    "- Filtrerer data raskt basert på bestemte kriterier.\n",
    "- Velger ut spesifikke kolonner og rader.\n",
    "- Utfører aggregering som gjennomsnitt, maks, min, grupperinger osv..."
   ]
  },
  {
   "cell_type": "code",
   "execution_count": 6,
   "metadata": {},
   "outputs": [
    {
     "name": "stdout",
     "output_type": "stream",
     "text": [
      "Hent de 10 første radene med temperatur > 10 grader celcius\n"
     ]
    },
    {
     "data": {
      "text/html": [
       "<div>\n",
       "<style scoped>\n",
       "    .dataframe tbody tr th:only-of-type {\n",
       "        vertical-align: middle;\n",
       "    }\n",
       "\n",
       "    .dataframe tbody tr th {\n",
       "        vertical-align: top;\n",
       "    }\n",
       "\n",
       "    .dataframe thead th {\n",
       "        text-align: right;\n",
       "    }\n",
       "</style>\n",
       "<table border=\"1\" class=\"dataframe\">\n",
       "  <thead>\n",
       "    <tr style=\"text-align: right;\">\n",
       "      <th></th>\n",
       "      <th>Tid</th>\n",
       "      <th>Temperatur</th>\n",
       "      <th>Fuktighet</th>\n",
       "      <th>Trykk</th>\n",
       "      <th>Vindhastighet</th>\n",
       "    </tr>\n",
       "  </thead>\n",
       "  <tbody>\n",
       "    <tr>\n",
       "      <th>0</th>\n",
       "      <td>01.06.25 - 06:00</td>\n",
       "      <td>10.7</td>\n",
       "      <td>72.1</td>\n",
       "      <td>1009.7</td>\n",
       "      <td>2.4</td>\n",
       "    </tr>\n",
       "    <tr>\n",
       "      <th>1</th>\n",
       "      <td>01.06.25 - 12:00</td>\n",
       "      <td>18.6</td>\n",
       "      <td>51.8</td>\n",
       "      <td>1005.2</td>\n",
       "      <td>3.0</td>\n",
       "    </tr>\n",
       "    <tr>\n",
       "      <th>2</th>\n",
       "      <td>01.06.25 - 18:00</td>\n",
       "      <td>16.9</td>\n",
       "      <td>67.1</td>\n",
       "      <td>1002.6</td>\n",
       "      <td>2.7</td>\n",
       "    </tr>\n",
       "    <tr>\n",
       "      <th>3</th>\n",
       "      <td>02.06.25 - 00:00</td>\n",
       "      <td>11.7</td>\n",
       "      <td>93.6</td>\n",
       "      <td>1002.3</td>\n",
       "      <td>2.1</td>\n",
       "    </tr>\n",
       "    <tr>\n",
       "      <th>4</th>\n",
       "      <td>02.06.25 - 06:00</td>\n",
       "      <td>11.9</td>\n",
       "      <td>90.8</td>\n",
       "      <td>1001.1</td>\n",
       "      <td>1.5</td>\n",
       "    </tr>\n",
       "    <tr>\n",
       "      <th>5</th>\n",
       "      <td>02.06.25 - 12:00</td>\n",
       "      <td>15.1</td>\n",
       "      <td>71.8</td>\n",
       "      <td>1000.7</td>\n",
       "      <td>2.5</td>\n",
       "    </tr>\n",
       "    <tr>\n",
       "      <th>6</th>\n",
       "      <td>02.06.25 - 18:00</td>\n",
       "      <td>14.1</td>\n",
       "      <td>85.3</td>\n",
       "      <td>1000.4</td>\n",
       "      <td>2.5</td>\n",
       "    </tr>\n",
       "    <tr>\n",
       "      <th>7</th>\n",
       "      <td>03.06.25 - 00:00</td>\n",
       "      <td>10.6</td>\n",
       "      <td>91.3</td>\n",
       "      <td>1002.0</td>\n",
       "      <td>2.1</td>\n",
       "    </tr>\n",
       "    <tr>\n",
       "      <th>8</th>\n",
       "      <td>03.06.25 - 06:00</td>\n",
       "      <td>10.7</td>\n",
       "      <td>90.3</td>\n",
       "      <td>1003.0</td>\n",
       "      <td>2.3</td>\n",
       "    </tr>\n",
       "    <tr>\n",
       "      <th>9</th>\n",
       "      <td>03.06.25 - 12:00</td>\n",
       "      <td>14.0</td>\n",
       "      <td>78.5</td>\n",
       "      <td>1004.2</td>\n",
       "      <td>2.7</td>\n",
       "    </tr>\n",
       "  </tbody>\n",
       "</table>\n",
       "</div>"
      ],
      "text/plain": [
       "                Tid  Temperatur  Fuktighet   Trykk  Vindhastighet\n",
       "0  01.06.25 - 06:00        10.7       72.1  1009.7            2.4\n",
       "1  01.06.25 - 12:00        18.6       51.8  1005.2            3.0\n",
       "2  01.06.25 - 18:00        16.9       67.1  1002.6            2.7\n",
       "3  02.06.25 - 00:00        11.7       93.6  1002.3            2.1\n",
       "4  02.06.25 - 06:00        11.9       90.8  1001.1            1.5\n",
       "5  02.06.25 - 12:00        15.1       71.8  1000.7            2.5\n",
       "6  02.06.25 - 18:00        14.1       85.3  1000.4            2.5\n",
       "7  03.06.25 - 00:00        10.6       91.3  1002.0            2.1\n",
       "8  03.06.25 - 06:00        10.7       90.3  1003.0            2.3\n",
       "9  03.06.25 - 12:00        14.0       78.5  1004.2            2.7"
      ]
     },
     "metadata": {},
     "output_type": "display_data"
    }
   ],
   "source": [
    "sql_query = \"\"\"\n",
    "SELECT\n",
    "    Tid,\n",
    "    Temperatur,\n",
    "    Fuktighet,\n",
    "    Trykk,\n",
    "    Vindhastighet\n",
    "FROM df\n",
    "WHERE Temperatur > 10\n",
    "ORDER BY Tid ASC\n",
    "LIMIT 10\n",
    "\"\"\"\n",
    "\n",
    "print(\"Hent de 10 første radene med temperatur > 10 grader celcius\")\n",
    "try:\n",
    "    df_sql = leser.sql_utforsk(df_cleaned, sql_query)\n",
    "    display(df_sql)\n",
    "except ValueError as e:\n",
    "    print(f\"Feil i SQL-spørring: {e}\")"
   ]
  },
  {
   "cell_type": "markdown",
   "metadata": {},
   "source": [
    "SQL-spørringen over henter de første 10 radene der temperaturen er over 10. Den viser tidspunktet, temperaturen, fuktigheten, trykket og vindhastigheten.\n",
    "- Dette hjelper med å se hvordan ulike varaibler oppfører seg sammen under forhold over 10 grader celcius."
   ]
  }
 ],
 "metadata": {
  "kernelspec": {
   "display_name": ".venv",
   "language": "python",
   "name": "python3"
  },
  "language_info": {
   "codemirror_mode": {
    "name": "ipython",
    "version": 3
   },
   "file_extension": ".py",
   "mimetype": "text/x-python",
   "name": "python",
   "nbconvert_exporter": "python",
   "pygments_lexer": "ipython3",
   "version": "3.13.2"
  }
 },
 "nbformat": 4,
 "nbformat_minor": 2
}
